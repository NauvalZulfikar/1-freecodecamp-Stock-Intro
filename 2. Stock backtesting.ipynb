{
 "cells": [
  {
   "cell_type": "markdown",
   "id": "daa45355-524d-4258-87d4-4404d91dd441",
   "metadata": {
    "jp-MarkdownHeadingCollapsed": true,
    "tags": []
   },
   "source": [
    "# <b> LIBRARIES"
   ]
  },
  {
   "cell_type": "code",
   "execution_count": 1,
   "id": "6c5f6934-6317-4ff1-a0cd-4f2f96815bc2",
   "metadata": {},
   "outputs": [
    {
     "name": "stdout",
     "output_type": "stream",
     "text": [
      "Requirement already satisfied: yfinance in c:\\users\\20210265\\anaconda3\\lib\\site-packages (0.1.70)\n",
      "Requirement already satisfied: lxml>=4.5.1 in c:\\users\\20210265\\anaconda3\\lib\\site-packages (from yfinance) (4.6.3)\n",
      "Requirement already satisfied: numpy>=1.15 in c:\\users\\20210265\\anaconda3\\lib\\site-packages (from yfinance) (1.20.3)\n",
      "Requirement already satisfied: multitasking>=0.0.7 in c:\\users\\20210265\\anaconda3\\lib\\site-packages (from yfinance) (0.0.10)\n",
      "Requirement already satisfied: pandas>=0.24.0 in c:\\users\\20210265\\anaconda3\\lib\\site-packages (from yfinance) (1.3.4)\n",
      "Requirement already satisfied: requests>=2.26 in c:\\users\\20210265\\anaconda3\\lib\\site-packages (from yfinance) (2.27.1)\n",
      "Requirement already satisfied: python-dateutil>=2.7.3 in c:\\users\\20210265\\anaconda3\\lib\\site-packages (from pandas>=0.24.0->yfinance) (2.8.2)\n",
      "Requirement already satisfied: pytz>=2017.3 in c:\\users\\20210265\\anaconda3\\lib\\site-packages (from pandas>=0.24.0->yfinance) (2021.3)\n",
      "Requirement already satisfied: six>=1.5 in c:\\users\\20210265\\anaconda3\\lib\\site-packages (from python-dateutil>=2.7.3->pandas>=0.24.0->yfinance) (1.16.0)\n",
      "Requirement already satisfied: idna<4,>=2.5 in c:\\users\\20210265\\anaconda3\\lib\\site-packages (from requests>=2.26->yfinance) (2.10)\n",
      "Requirement already satisfied: charset-normalizer~=2.0.0 in c:\\users\\20210265\\anaconda3\\lib\\site-packages (from requests>=2.26->yfinance) (2.0.4)\n",
      "Requirement already satisfied: certifi>=2017.4.17 in c:\\users\\20210265\\anaconda3\\lib\\site-packages (from requests>=2.26->yfinance) (2021.10.8)\n",
      "Requirement already satisfied: urllib3<1.27,>=1.21.1 in c:\\users\\20210265\\anaconda3\\lib\\site-packages (from requests>=2.26->yfinance) (1.25.11)\n",
      "Requirement already satisfied: pandas_datareader in c:\\users\\20210265\\anaconda3\\lib\\site-packages (0.10.0)\n",
      "Requirement already satisfied: lxml in c:\\users\\20210265\\anaconda3\\lib\\site-packages (from pandas_datareader) (4.6.3)\n",
      "Requirement already satisfied: requests>=2.19.0 in c:\\users\\20210265\\anaconda3\\lib\\site-packages (from pandas_datareader) (2.27.1)\n",
      "Requirement already satisfied: pandas>=0.23 in c:\\users\\20210265\\anaconda3\\lib\\site-packages (from pandas_datareader) (1.3.4)\n",
      "Requirement already satisfied: numpy>=1.17.3 in c:\\users\\20210265\\anaconda3\\lib\\site-packages (from pandas>=0.23->pandas_datareader) (1.20.3)\n",
      "Requirement already satisfied: python-dateutil>=2.7.3 in c:\\users\\20210265\\anaconda3\\lib\\site-packages (from pandas>=0.23->pandas_datareader) (2.8.2)\n",
      "Requirement already satisfied: pytz>=2017.3 in c:\\users\\20210265\\anaconda3\\lib\\site-packages (from pandas>=0.23->pandas_datareader) (2021.3)\n",
      "Requirement already satisfied: six>=1.5 in c:\\users\\20210265\\anaconda3\\lib\\site-packages (from python-dateutil>=2.7.3->pandas>=0.23->pandas_datareader) (1.16.0)\n",
      "Requirement already satisfied: certifi>=2017.4.17 in c:\\users\\20210265\\anaconda3\\lib\\site-packages (from requests>=2.19.0->pandas_datareader) (2021.10.8)\n",
      "Requirement already satisfied: charset-normalizer~=2.0.0 in c:\\users\\20210265\\anaconda3\\lib\\site-packages (from requests>=2.19.0->pandas_datareader) (2.0.4)\n",
      "Requirement already satisfied: idna<4,>=2.5 in c:\\users\\20210265\\anaconda3\\lib\\site-packages (from requests>=2.19.0->pandas_datareader) (2.10)\n",
      "Requirement already satisfied: urllib3<1.27,>=1.21.1 in c:\\users\\20210265\\anaconda3\\lib\\site-packages (from requests>=2.19.0->pandas_datareader) (1.25.11)\n"
     ]
    }
   ],
   "source": [
    "import pandas as pd\n",
    "import numpy as np\n",
    "!pip3 install yfinance\n",
    "import yfinance as yf\n",
    "import datetime as dt\n",
    "!pip3 install pandas_datareader\n",
    "from pandas_datareader import data as pdr\n",
    "from tkinter import Tk\n",
    "from tkinter.filedialog import askopenfilename\n",
    "import os\n",
    "from pandas import ExcelWriter"
   ]
  },
  {
   "cell_type": "code",
   "execution_count": 2,
   "id": "2ba747c0-291a-419a-8740-9d1a775a192d",
   "metadata": {},
   "outputs": [],
   "source": [
    "yf.pdr_override()"
   ]
  },
  {
   "cell_type": "markdown",
   "id": "8c782a2a-38c5-4668-b316-148c5f0bda15",
   "metadata": {
    "jp-MarkdownHeadingCollapsed": true,
    "tags": []
   },
   "source": [
    "# <B> Back-Testing"
   ]
  },
  {
   "cell_type": "code",
   "execution_count": 4,
   "id": "565ad3fd-1f39-41a8-81b1-cc8375ed4a09",
   "metadata": {},
   "outputs": [
    {
     "name": "stdin",
     "output_type": "stream",
     "text": [
      "Enter a stock ticker symbol :  AAPL\n",
      "Enter a starting year       :  2021\n",
      "Enter a starting month      :  01\n",
      "Enter a starting date       :  01\n"
     ]
    },
    {
     "name": "stdout",
     "output_type": "stream",
     "text": [
      "[*********************100%***********************]  1 of 1 completed\n",
      "[-4.894740790397201, 12.559313122359029, 14.363983162731797, -2.200595294269847, -2.262855810663489, 0.0]\n",
      "\n",
      "Results for AAPL going back to 2021-03-30 00:00:00, Sample size: 6 trades\n",
      "EMAs used: [3, 5, 8, 10, 12, 15, 30, 35, 40, 45, 50, 60]\n",
      "Batting Avg: 0.3333333333333333\n",
      "Gain/loss ratio: 2.876976299078112\n",
      "Average Gain: 13.461648142545414\n",
      "Average Loss: -4.679095947665268\n",
      "Max Return: 14.363983162731797\n",
      "Max Loss: -4.894740790397201\n",
      "Total return over 6 trades: 17.02%\n",
      "\n"
     ]
    }
   ],
   "source": [
    "#Input\n",
    "stock     = input(\"Enter a stock ticker symbol : \")\n",
    "startyear = input(\"Enter a starting year       : \")\n",
    "startmonth= input(\"Enter a starting month      : \")\n",
    "startday  = input(\"Enter a starting date       : \")\n",
    "\n",
    "\n",
    "\n",
    "#Date\n",
    "start = dt.datetime(int(startyear), int(startmonth), int(startday))\n",
    "now = dt.datetime.now()\n",
    "df = pdr.get_data_yahoo(stock,start,now)\n",
    "\n",
    "\n",
    "\n",
    "#Exponential Moving Average\n",
    "emasUsed = [3,5,8,10,12,15,30,35,40,45,50,60]\n",
    "for ema in emasUsed:\n",
    "    df[\"ema_\" + str(ema)]=round(df.iloc[:,4].ewm(span=ema, adjust=False).mean(),2)\n",
    "    \n",
    "df=df.iloc[60:]\n",
    "\n",
    "pos=0 #position\n",
    "num=0 #binaries (1 = position, 0 = no position)\n",
    "percentchange=[] \n",
    "\n",
    "for i in df.index:\n",
    "    cmin = min(df[\"ema_3\"][i],df[\"ema_5\"][i],df[\"ema_8\"][i],df[\"ema_10\"][i],df[\"ema_12\"][i],df[\"ema_15\"][i])\n",
    "    cmax = max(df[\"ema_30\"][i],df[\"ema_35\"][i],df[\"ema_40\"][i],df[\"ema_45\"][i],df[\"ema_50\"][i],df[\"ema_60\"][i])\n",
    "    \n",
    "    close = df[\"Adj Close\"][i]\n",
    "    \n",
    "    if(cmin>cmax): #Buying Point\n",
    "        # print(\"Red White Blue\")\n",
    "        if(pos==0):\n",
    "            bp=close #buying point = Adj Close\n",
    "            pos=1\n",
    "            # print(\"Buying now at \"+str(bp))\n",
    "            \n",
    "    elif(cmin<cmax): #Selling Point\n",
    "        # print(\"Blue White Red\")\n",
    "        if(pos==1):\n",
    "            pos=0\n",
    "            sp=close\n",
    "            # print(\"Selling now at \"+str(sp))\n",
    "            pc=(sp/bp-1)*100\n",
    "            percentchange.append(pc)\n",
    "            \n",
    "    if(num==df[\"Adj Close\"].count()-1 and pos==1):\n",
    "        pos=0\n",
    "        sp=close\n",
    "        # print(\"Selling now at \"+str(sp))\n",
    "        pc=(sp/bp-1)*100\n",
    "        percentchange.append(pc)\n",
    "    num+=1\n",
    "\n",
    "print(percentchange)\n",
    "    \n",
    "gains=0 \n",
    "ng=0 #number of gains\n",
    "losses=0\n",
    "nl=0 #number of losses\n",
    "totalR=1 #Total return\n",
    "\n",
    "for i in percentchange:\n",
    "    if (i>0):\n",
    "        gains+=i\n",
    "        ng+=1\n",
    "    else:\n",
    "        losses+=i\n",
    "        nl+=1\n",
    "    totalR=totalR*((i/100)+1)\n",
    "    \n",
    "totalR=round((totalR-1)*100,2)\n",
    "\n",
    "if(ng>0):\n",
    "    avgGain=gains/ng\n",
    "    maxR=str(max(percentchange))\n",
    "else:\n",
    "    avgGain=0\n",
    "    maxR=\"undefined\"\n",
    "    \n",
    "if(nl>0):\n",
    "    avgLoss=losses/ng\n",
    "    maxL=str(min(percentchange))\n",
    "    ratio=str(-avgGain/avgLoss)\n",
    "else:\n",
    "    avgLoss=0\n",
    "    maxL=\"undefined\"\n",
    "    ratio=\"inf\"\n",
    "    \n",
    "if(ng>0 or nl>0): #Success Rate\n",
    "    battingAvg=ng/(ng+nl)\n",
    "else:\n",
    "    battingAvg=0\n",
    "    \n",
    "print()\n",
    "print(\"Results for \"+ stock + \" going back to \"+str(df.index[0]) +\", Sample size: \"+str(ng+nl)+\" trades\")\n",
    "print(\"EMAs used: \"+str(emasUsed))\n",
    "print(\"Batting Avg: \"+ str(battingAvg))\n",
    "print(\"Gain/loss ratio: \"+ ratio)\n",
    "print(\"Average Gain: \"+ str(avgGain))\n",
    "print(\"Average Loss: \"+ str(avgLoss))\n",
    "print(\"Max Return: \"+ maxR)\n",
    "print(\"Max Loss: \"+ maxL)\n",
    "print(\"Total return over \"+str(ng+nl)+ \" trades: \"+ str(totalR)+\"%\" )\n",
    "# print(\"Example return Simulating \"+str(n)+ \" trades: \"+ str(nReturn)+\"%\" )\n",
    "print()"
   ]
  }
 ],
 "metadata": {
  "kernelspec": {
   "display_name": "Python 3 (ipykernel)",
   "language": "python",
   "name": "python3"
  },
  "language_info": {
   "codemirror_mode": {
    "name": "ipython",
    "version": 3
   },
   "file_extension": ".py",
   "mimetype": "text/x-python",
   "name": "python",
   "nbconvert_exporter": "python",
   "pygments_lexer": "ipython3",
   "version": "3.9.7"
  }
 },
 "nbformat": 4,
 "nbformat_minor": 5
}
